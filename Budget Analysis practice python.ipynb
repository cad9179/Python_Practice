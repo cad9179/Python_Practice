{
 "cells": [
  {
   "cell_type": "code",
   "execution_count": 2,
   "metadata": {},
   "outputs": [
    {
     "name": "stdout",
     "output_type": "stream",
     "text": [
      "Enter amount budgeted for the month: 30000\n",
      "Enter an amount spent(0 to quit): 65\n",
      "Enter an amount spent(0 to quit): 56\n",
      "Enter an amount spent(0 to quit): 0\n",
      "Budgeted: $ 30000.00\n",
      "Spent: $ 121.00\n",
      "You are $ 29879.00 under budget. WELL DONE!\n"
     ]
    }
   ],
   "source": [
    "# Budget Analysis\n",
    "\n",
    "# Declare variables to store the budget amount,\n",
    "# amount spent, difference, and total.\n",
    "Budget = 0\n",
    "amountSpent = 1\n",
    "Total = 0\n",
    "Difference = 0\n",
    "\n",
    "# Get the budgeted amount from the user.\n",
    "# use  'Enter amount budgeted for the month: '\n",
    "Budget = float(input(\"Enter amount budgeted for the month: \"))\n",
    "\n",
    "while amountSpent != 0:\n",
    "    amountSpent = float(input(\"Enter an amount spent(0 to quit): \"))\n",
    "    Total = Total + amountSpent\n",
    "\n",
    "\n",
    "# use('Budgeted: $', format())\n",
    "# use ('Spent: $', format())\n",
    "print('Budgeted: $', \"{0:.2f}\". format(Budget))\n",
    "print('Spent: $', \"{0:.2f}\". format(Total))\n",
    "\n",
    "# Determine whether the user is over or under budget,\n",
    "# and display the result.\n",
    "# use ->'You are $', format(), \\\n",
    "#           'under budget. WELL DONE!')\n",
    "# use ->('You are $', format(), \\\n",
    "#          'over budget. PLAN BETTER NEXT TIME!')\n",
    "# use _>('Spending matches budget. GOOD PLANNING!')\n",
    "if Budget > Total:\n",
    "    Difference = Budget - Total\n",
    "    print(\"You are $\", \"{0:.2f}\". format(Difference), \"under budget. WELL DONE!\")\n",
    "elif Total > Budget:\n",
    "    Difference = Total - Budget\n",
    "    print(\"You are $\", \"{0:.2f}\". format(Difference), \"over budget. PLAN BETTER NEXT TIME!\")\n",
    "else:\n",
    "    print(\"Spending matches budget. GOOD PLANNING!\")"
   ]
  },
  {
   "cell_type": "code",
   "execution_count": null,
   "metadata": {},
   "outputs": [],
   "source": []
  },
  {
   "cell_type": "code",
   "execution_count": null,
   "metadata": {},
   "outputs": [],
   "source": []
  }
 ],
 "metadata": {
  "kernelspec": {
   "display_name": "Python 3",
   "language": "python",
   "name": "python3"
  },
  "language_info": {
   "codemirror_mode": {
    "name": "ipython",
    "version": 3
   },
   "file_extension": ".py",
   "mimetype": "text/x-python",
   "name": "python",
   "nbconvert_exporter": "python",
   "pygments_lexer": "ipython3",
   "version": "3.7.4"
  }
 },
 "nbformat": 4,
 "nbformat_minor": 2
}
